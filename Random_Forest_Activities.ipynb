{
  "nbformat": 4,
  "nbformat_minor": 0,
  "metadata": {
    "colab": {
      "name": "Random_Forest_Activities.ipynb",
      "provenance": []
    },
    "kernelspec": {
      "name": "python3",
      "display_name": "Python 3"
    },
    "language_info": {
      "name": "python"
    }
  },
  "cells": [
    {
      "cell_type": "code",
      "metadata": {
        "id": "pbLSJNGDPdaZ"
      },
      "source": [
        "#importing libraries\n",
        "import numpy as np\n",
        "import pandas as pd\n",
        "import matplotlib.pyplot as plt\n",
        "import itertools\n",
        "import pickle\n",
        "from sklearn.preprocessing import StandardScaler\n",
        "from sklearn.linear_model import LogisticRegression\n",
        "from sklearn.neighbors import KNeighborsClassifier\n",
        "from sklearn import svm\n",
        "from sklearn.ensemble import BaggingClassifier,RandomForestClassifier,ExtraTreesClassifier,AdaBoostClassifier,GradientBoostingClassifier\n",
        "from sklearn.metrics import f1_score,accuracy_score,confusion_matrix\n",
        "import seaborn as sn\n",
        "import sklearn.metrics as metrics"
      ],
      "execution_count": 37,
      "outputs": []
    },
    {
      "cell_type": "code",
      "metadata": {
        "colab": {
          "base_uri": "https://localhost:8080/"
        },
        "id": "zUHqSSR-PwAV",
        "outputId": "bfa35b94-ef2f-43da-e145-2cd3ce161f9d"
      },
      "source": [
        "from google.colab import drive\n",
        "drive.mount('/content/drive')"
      ],
      "execution_count": 38,
      "outputs": [
        {
          "output_type": "stream",
          "text": [
            "Drive already mounted at /content/drive; to attempt to forcibly remount, call drive.mount(\"/content/drive\", force_remount=True).\n"
          ],
          "name": "stdout"
        }
      ]
    },
    {
      "cell_type": "code",
      "metadata": {
        "colab": {
          "base_uri": "https://localhost:8080/",
          "height": 195
        },
        "id": "Yg1dVGb5P8ds",
        "outputId": "0868c2b3-f37a-46d0-bdd3-3a19912095a2"
      },
      "source": [
        "#importing dataset\n",
        "activities=[\"climbingdown\",\"climbingup\",\"jumping\",\"lying\",\"running\",\"sitting\",\"standing\",\"walking\"]\n",
        "location='/content/drive/MyDrive/Major_Project/clean_data.csv'\n",
        "data=pd.read_csv(location)\n",
        "data.drop(data.columns[[0]],axis=1,inplace=True)\n",
        "(data.head())"
      ],
      "execution_count": 39,
      "outputs": [
        {
          "output_type": "execute_result",
          "data": {
            "text/html": [
              "<div>\n",
              "<style scoped>\n",
              "    .dataframe tbody tr th:only-of-type {\n",
              "        vertical-align: middle;\n",
              "    }\n",
              "\n",
              "    .dataframe tbody tr th {\n",
              "        vertical-align: top;\n",
              "    }\n",
              "\n",
              "    .dataframe thead th {\n",
              "        text-align: right;\n",
              "    }\n",
              "</style>\n",
              "<table border=\"1\" class=\"dataframe\">\n",
              "  <thead>\n",
              "    <tr style=\"text-align: right;\">\n",
              "      <th></th>\n",
              "      <th>attr_time_gyro</th>\n",
              "      <th>attr_x_gyro</th>\n",
              "      <th>attr_y_gyro</th>\n",
              "      <th>attr_z_gyro</th>\n",
              "      <th>attr_time_acc</th>\n",
              "      <th>attr_x_acc</th>\n",
              "      <th>attr_y_acc</th>\n",
              "      <th>attr_z_acc</th>\n",
              "      <th>Activity</th>\n",
              "      <th>Label</th>\n",
              "      <th>Subject</th>\n",
              "      <th>Sample_Num</th>\n",
              "    </tr>\n",
              "  </thead>\n",
              "  <tbody>\n",
              "    <tr>\n",
              "      <th>0</th>\n",
              "      <td>1435996982037</td>\n",
              "      <td>-0.815093</td>\n",
              "      <td>0.379639</td>\n",
              "      <td>0.408403</td>\n",
              "      <td>1435996982038</td>\n",
              "      <td>-0.217274</td>\n",
              "      <td>8.125920</td>\n",
              "      <td>1.502960</td>\n",
              "      <td>climbingdown</td>\n",
              "      <td>0</td>\n",
              "      <td>1</td>\n",
              "      <td>7</td>\n",
              "    </tr>\n",
              "    <tr>\n",
              "      <th>1</th>\n",
              "      <td>1435996982056</td>\n",
              "      <td>-0.977889</td>\n",
              "      <td>0.365895</td>\n",
              "      <td>0.438336</td>\n",
              "      <td>1435996982056</td>\n",
              "      <td>0.212485</td>\n",
              "      <td>8.208521</td>\n",
              "      <td>0.714071</td>\n",
              "      <td>climbingdown</td>\n",
              "      <td>0</td>\n",
              "      <td>1</td>\n",
              "      <td>7</td>\n",
              "    </tr>\n",
              "    <tr>\n",
              "      <th>2</th>\n",
              "      <td>1435996982076</td>\n",
              "      <td>-0.815704</td>\n",
              "      <td>0.554041</td>\n",
              "      <td>0.516832</td>\n",
              "      <td>1435996982077</td>\n",
              "      <td>0.249596</td>\n",
              "      <td>8.118139</td>\n",
              "      <td>-0.342969</td>\n",
              "      <td>climbingdown</td>\n",
              "      <td>0</td>\n",
              "      <td>1</td>\n",
              "      <td>7</td>\n",
              "    </tr>\n",
              "    <tr>\n",
              "      <th>3</th>\n",
              "      <td>1435996982095</td>\n",
              "      <td>-0.639164</td>\n",
              "      <td>0.823128</td>\n",
              "      <td>0.550735</td>\n",
              "      <td>1435996982095</td>\n",
              "      <td>0.270545</td>\n",
              "      <td>7.487866</td>\n",
              "      <td>0.112527</td>\n",
              "      <td>climbingdown</td>\n",
              "      <td>0</td>\n",
              "      <td>1</td>\n",
              "      <td>7</td>\n",
              "    </tr>\n",
              "    <tr>\n",
              "      <th>4</th>\n",
              "      <td>1435996982114</td>\n",
              "      <td>-0.506606</td>\n",
              "      <td>0.752267</td>\n",
              "      <td>0.589219</td>\n",
              "      <td>1435996982114</td>\n",
              "      <td>-0.014964</td>\n",
              "      <td>7.645285</td>\n",
              "      <td>0.856526</td>\n",
              "      <td>climbingdown</td>\n",
              "      <td>0</td>\n",
              "      <td>1</td>\n",
              "      <td>7</td>\n",
              "    </tr>\n",
              "  </tbody>\n",
              "</table>\n",
              "</div>"
            ],
            "text/plain": [
              "   attr_time_gyro  attr_x_gyro  attr_y_gyro  ...  Label  Subject  Sample_Num\n",
              "0   1435996982037    -0.815093     0.379639  ...      0        1           7\n",
              "1   1435996982056    -0.977889     0.365895  ...      0        1           7\n",
              "2   1435996982076    -0.815704     0.554041  ...      0        1           7\n",
              "3   1435996982095    -0.639164     0.823128  ...      0        1           7\n",
              "4   1435996982114    -0.506606     0.752267  ...      0        1           7\n",
              "\n",
              "[5 rows x 12 columns]"
            ]
          },
          "metadata": {
            "tags": []
          },
          "execution_count": 39
        }
      ]
    },
    {
      "cell_type": "code",
      "metadata": {
        "colab": {
          "base_uri": "https://localhost:8080/"
        },
        "id": "9lzo_m4G6T6Z",
        "outputId": "55995b53-2669-4d52-c526-630b4e51c151"
      },
      "source": [
        "data.columns"
      ],
      "execution_count": 40,
      "outputs": [
        {
          "output_type": "execute_result",
          "data": {
            "text/plain": [
              "Index(['attr_time_gyro', 'attr_x_gyro', 'attr_y_gyro', 'attr_z_gyro',\n",
              "       'attr_time_acc', 'attr_x_acc', 'attr_y_acc', 'attr_z_acc', 'Activity',\n",
              "       'Label', 'Subject', 'Sample_Num'],\n",
              "      dtype='object')"
            ]
          },
          "metadata": {
            "tags": []
          },
          "execution_count": 40
        }
      ]
    },
    {
      "cell_type": "code",
      "metadata": {
        "id": "SVh3TSryRQOn"
      },
      "source": [
        "def Range(a):\n",
        "    return a.max()-a.min();"
      ],
      "execution_count": 41,
      "outputs": []
    },
    {
      "cell_type": "code",
      "metadata": {
        "id": "8u9Z06Ot6gfg"
      },
      "source": [
        "range_sample=data.groupby(['Activity','Subject','Sample_Num']).apply(Range).add_prefix('range_')\n",
        "stdev_sample=data.groupby(['Activity','Subject','Sample_Num']).std().add_prefix('std_')\n",
        "mean_sample=data.groupby(['Activity','Subject','Sample_Num']).mean().add_prefix('mean_')"
      ],
      "execution_count": 42,
      "outputs": []
    },
    {
      "cell_type": "code",
      "metadata": {
        "colab": {
          "base_uri": "https://localhost:8080/",
          "height": 245
        },
        "id": "mIXrybgg6wA1",
        "outputId": "8a696a45-cd45-41cb-d2b1-6104c12ff62d"
      },
      "source": [
        "mean_sample.head()"
      ],
      "execution_count": 43,
      "outputs": [
        {
          "output_type": "execute_result",
          "data": {
            "text/html": [
              "<div>\n",
              "<style scoped>\n",
              "    .dataframe tbody tr th:only-of-type {\n",
              "        vertical-align: middle;\n",
              "    }\n",
              "\n",
              "    .dataframe tbody tr th {\n",
              "        vertical-align: top;\n",
              "    }\n",
              "\n",
              "    .dataframe thead th {\n",
              "        text-align: right;\n",
              "    }\n",
              "</style>\n",
              "<table border=\"1\" class=\"dataframe\">\n",
              "  <thead>\n",
              "    <tr style=\"text-align: right;\">\n",
              "      <th></th>\n",
              "      <th></th>\n",
              "      <th></th>\n",
              "      <th>mean_attr_time_gyro</th>\n",
              "      <th>mean_attr_x_gyro</th>\n",
              "      <th>mean_attr_y_gyro</th>\n",
              "      <th>mean_attr_z_gyro</th>\n",
              "      <th>mean_attr_time_acc</th>\n",
              "      <th>mean_attr_x_acc</th>\n",
              "      <th>mean_attr_y_acc</th>\n",
              "      <th>mean_attr_z_acc</th>\n",
              "      <th>mean_Label</th>\n",
              "    </tr>\n",
              "    <tr>\n",
              "      <th>Activity</th>\n",
              "      <th>Subject</th>\n",
              "      <th>Sample_Num</th>\n",
              "      <th></th>\n",
              "      <th></th>\n",
              "      <th></th>\n",
              "      <th></th>\n",
              "      <th></th>\n",
              "      <th></th>\n",
              "      <th></th>\n",
              "      <th></th>\n",
              "      <th></th>\n",
              "    </tr>\n",
              "  </thead>\n",
              "  <tbody>\n",
              "    <tr>\n",
              "      <th rowspan=\"5\" valign=\"top\">climbingdown</th>\n",
              "      <th rowspan=\"5\" valign=\"top\">1</th>\n",
              "      <th>7</th>\n",
              "      <td>1.435997e+12</td>\n",
              "      <td>-0.233308</td>\n",
              "      <td>-0.028984</td>\n",
              "      <td>0.144039</td>\n",
              "      <td>1.435997e+12</td>\n",
              "      <td>0.533446</td>\n",
              "      <td>9.213110</td>\n",
              "      <td>2.375641</td>\n",
              "      <td>0.0</td>\n",
              "    </tr>\n",
              "    <tr>\n",
              "      <th>8</th>\n",
              "      <td>1.435997e+12</td>\n",
              "      <td>0.087604</td>\n",
              "      <td>-0.277429</td>\n",
              "      <td>0.141031</td>\n",
              "      <td>1.435997e+12</td>\n",
              "      <td>0.379439</td>\n",
              "      <td>9.024692</td>\n",
              "      <td>2.418964</td>\n",
              "      <td>0.0</td>\n",
              "    </tr>\n",
              "    <tr>\n",
              "      <th>9</th>\n",
              "      <td>1.435997e+12</td>\n",
              "      <td>-0.166086</td>\n",
              "      <td>-1.012663</td>\n",
              "      <td>-0.062882</td>\n",
              "      <td>1.435997e+12</td>\n",
              "      <td>0.155054</td>\n",
              "      <td>9.439451</td>\n",
              "      <td>1.640513</td>\n",
              "      <td>0.0</td>\n",
              "    </tr>\n",
              "    <tr>\n",
              "      <th>10</th>\n",
              "      <td>1.435997e+12</td>\n",
              "      <td>0.167801</td>\n",
              "      <td>-0.480547</td>\n",
              "      <td>0.051044</td>\n",
              "      <td>1.435997e+12</td>\n",
              "      <td>0.311127</td>\n",
              "      <td>8.968662</td>\n",
              "      <td>2.061090</td>\n",
              "      <td>0.0</td>\n",
              "    </tr>\n",
              "    <tr>\n",
              "      <th>11</th>\n",
              "      <td>1.435997e+12</td>\n",
              "      <td>-0.271014</td>\n",
              "      <td>-0.662130</td>\n",
              "      <td>-0.022941</td>\n",
              "      <td>1.435997e+12</td>\n",
              "      <td>0.001209</td>\n",
              "      <td>9.386025</td>\n",
              "      <td>1.909316</td>\n",
              "      <td>0.0</td>\n",
              "    </tr>\n",
              "  </tbody>\n",
              "</table>\n",
              "</div>"
            ],
            "text/plain": [
              "                                 mean_attr_time_gyro  ...  mean_Label\n",
              "Activity     Subject Sample_Num                       ...            \n",
              "climbingdown 1       7                  1.435997e+12  ...         0.0\n",
              "                     8                  1.435997e+12  ...         0.0\n",
              "                     9                  1.435997e+12  ...         0.0\n",
              "                     10                 1.435997e+12  ...         0.0\n",
              "                     11                 1.435997e+12  ...         0.0\n",
              "\n",
              "[5 rows x 9 columns]"
            ]
          },
          "metadata": {
            "tags": []
          },
          "execution_count": 43
        }
      ]
    },
    {
      "cell_type": "code",
      "metadata": {
        "id": "Bfz9k1Ro7BkE"
      },
      "source": [
        "total_data=pd.concat([stdev_sample,mean_sample,range_sample],axis=1)\n",
        "total_data.reset_index(inplace=True)"
      ],
      "execution_count": 44,
      "outputs": []
    },
    {
      "cell_type": "code",
      "metadata": {
        "colab": {
          "base_uri": "https://localhost:8080/",
          "height": 215
        },
        "id": "RvQnlpwD7Frh",
        "outputId": "365f7ff2-e2b3-4fcf-bda2-5de75a608d9d"
      },
      "source": [
        "total_data.head()"
      ],
      "execution_count": 45,
      "outputs": [
        {
          "output_type": "execute_result",
          "data": {
            "text/html": [
              "<div>\n",
              "<style scoped>\n",
              "    .dataframe tbody tr th:only-of-type {\n",
              "        vertical-align: middle;\n",
              "    }\n",
              "\n",
              "    .dataframe tbody tr th {\n",
              "        vertical-align: top;\n",
              "    }\n",
              "\n",
              "    .dataframe thead th {\n",
              "        text-align: right;\n",
              "    }\n",
              "</style>\n",
              "<table border=\"1\" class=\"dataframe\">\n",
              "  <thead>\n",
              "    <tr style=\"text-align: right;\">\n",
              "      <th></th>\n",
              "      <th>Activity</th>\n",
              "      <th>Subject</th>\n",
              "      <th>Sample_Num</th>\n",
              "      <th>std_attr_time_gyro</th>\n",
              "      <th>std_attr_x_gyro</th>\n",
              "      <th>std_attr_y_gyro</th>\n",
              "      <th>std_attr_z_gyro</th>\n",
              "      <th>std_attr_time_acc</th>\n",
              "      <th>std_attr_x_acc</th>\n",
              "      <th>std_attr_y_acc</th>\n",
              "      <th>std_attr_z_acc</th>\n",
              "      <th>std_Label</th>\n",
              "      <th>mean_attr_time_gyro</th>\n",
              "      <th>mean_attr_x_gyro</th>\n",
              "      <th>mean_attr_y_gyro</th>\n",
              "      <th>mean_attr_z_gyro</th>\n",
              "      <th>mean_attr_time_acc</th>\n",
              "      <th>mean_attr_x_acc</th>\n",
              "      <th>mean_attr_y_acc</th>\n",
              "      <th>mean_attr_z_acc</th>\n",
              "      <th>mean_Label</th>\n",
              "      <th>range_attr_time_gyro</th>\n",
              "      <th>range_attr_x_gyro</th>\n",
              "      <th>range_attr_y_gyro</th>\n",
              "      <th>range_attr_z_gyro</th>\n",
              "      <th>range_attr_time_acc</th>\n",
              "      <th>range_attr_x_acc</th>\n",
              "      <th>range_attr_y_acc</th>\n",
              "      <th>range_attr_z_acc</th>\n",
              "      <th>range_Label</th>\n",
              "    </tr>\n",
              "  </thead>\n",
              "  <tbody>\n",
              "    <tr>\n",
              "      <th>0</th>\n",
              "      <td>climbingdown</td>\n",
              "      <td>1</td>\n",
              "      <td>7</td>\n",
              "      <td>577.344583</td>\n",
              "      <td>0.786064</td>\n",
              "      <td>0.611101</td>\n",
              "      <td>0.402885</td>\n",
              "      <td>572.802628</td>\n",
              "      <td>1.028233</td>\n",
              "      <td>3.303459</td>\n",
              "      <td>1.968117</td>\n",
              "      <td>0.0</td>\n",
              "      <td>1.435997e+12</td>\n",
              "      <td>-0.233308</td>\n",
              "      <td>-0.028984</td>\n",
              "      <td>0.144039</td>\n",
              "      <td>1.435997e+12</td>\n",
              "      <td>0.533446</td>\n",
              "      <td>9.213110</td>\n",
              "      <td>2.375641</td>\n",
              "      <td>0.0</td>\n",
              "      <td>1978.0</td>\n",
              "      <td>3.587917</td>\n",
              "      <td>3.262326</td>\n",
              "      <td>1.893377</td>\n",
              "      <td>1977.0</td>\n",
              "      <td>5.589264</td>\n",
              "      <td>15.401898</td>\n",
              "      <td>11.406575</td>\n",
              "      <td>0.0</td>\n",
              "    </tr>\n",
              "    <tr>\n",
              "      <th>1</th>\n",
              "      <td>climbingdown</td>\n",
              "      <td>1</td>\n",
              "      <td>8</td>\n",
              "      <td>581.291714</td>\n",
              "      <td>0.942661</td>\n",
              "      <td>0.855090</td>\n",
              "      <td>0.374873</td>\n",
              "      <td>582.030385</td>\n",
              "      <td>1.470079</td>\n",
              "      <td>3.465349</td>\n",
              "      <td>2.752805</td>\n",
              "      <td>0.0</td>\n",
              "      <td>1.435997e+12</td>\n",
              "      <td>0.087604</td>\n",
              "      <td>-0.277429</td>\n",
              "      <td>0.141031</td>\n",
              "      <td>1.435997e+12</td>\n",
              "      <td>0.379439</td>\n",
              "      <td>9.024692</td>\n",
              "      <td>2.418964</td>\n",
              "      <td>0.0</td>\n",
              "      <td>1985.0</td>\n",
              "      <td>4.308738</td>\n",
              "      <td>5.279708</td>\n",
              "      <td>1.747991</td>\n",
              "      <td>1985.0</td>\n",
              "      <td>9.214684</td>\n",
              "      <td>15.316306</td>\n",
              "      <td>18.915391</td>\n",
              "      <td>0.0</td>\n",
              "    </tr>\n",
              "    <tr>\n",
              "      <th>2</th>\n",
              "      <td>climbingdown</td>\n",
              "      <td>1</td>\n",
              "      <td>9</td>\n",
              "      <td>579.635665</td>\n",
              "      <td>0.976116</td>\n",
              "      <td>0.803382</td>\n",
              "      <td>0.449999</td>\n",
              "      <td>579.373594</td>\n",
              "      <td>1.566840</td>\n",
              "      <td>3.024721</td>\n",
              "      <td>2.634441</td>\n",
              "      <td>0.0</td>\n",
              "      <td>1.435997e+12</td>\n",
              "      <td>-0.166086</td>\n",
              "      <td>-1.012663</td>\n",
              "      <td>-0.062882</td>\n",
              "      <td>1.435997e+12</td>\n",
              "      <td>0.155054</td>\n",
              "      <td>9.439451</td>\n",
              "      <td>1.640513</td>\n",
              "      <td>0.0</td>\n",
              "      <td>1981.0</td>\n",
              "      <td>4.679228</td>\n",
              "      <td>4.421137</td>\n",
              "      <td>2.178345</td>\n",
              "      <td>1982.0</td>\n",
              "      <td>7.890690</td>\n",
              "      <td>13.982736</td>\n",
              "      <td>21.457434</td>\n",
              "      <td>0.0</td>\n",
              "    </tr>\n",
              "    <tr>\n",
              "      <th>3</th>\n",
              "      <td>climbingdown</td>\n",
              "      <td>1</td>\n",
              "      <td>10</td>\n",
              "      <td>582.685275</td>\n",
              "      <td>0.995383</td>\n",
              "      <td>1.088734</td>\n",
              "      <td>0.458140</td>\n",
              "      <td>582.662663</td>\n",
              "      <td>2.012424</td>\n",
              "      <td>3.810429</td>\n",
              "      <td>2.944493</td>\n",
              "      <td>0.0</td>\n",
              "      <td>1.435997e+12</td>\n",
              "      <td>0.167801</td>\n",
              "      <td>-0.480547</td>\n",
              "      <td>0.051044</td>\n",
              "      <td>1.435997e+12</td>\n",
              "      <td>0.311127</td>\n",
              "      <td>8.968662</td>\n",
              "      <td>2.061090</td>\n",
              "      <td>0.0</td>\n",
              "      <td>2024.0</td>\n",
              "      <td>4.831944</td>\n",
              "      <td>7.441561</td>\n",
              "      <td>2.543032</td>\n",
              "      <td>2035.0</td>\n",
              "      <td>14.829087</td>\n",
              "      <td>15.386336</td>\n",
              "      <td>20.637421</td>\n",
              "      <td>0.0</td>\n",
              "    </tr>\n",
              "    <tr>\n",
              "      <th>4</th>\n",
              "      <td>climbingdown</td>\n",
              "      <td>1</td>\n",
              "      <td>11</td>\n",
              "      <td>580.331920</td>\n",
              "      <td>1.016299</td>\n",
              "      <td>1.113550</td>\n",
              "      <td>0.605436</td>\n",
              "      <td>581.116097</td>\n",
              "      <td>1.996506</td>\n",
              "      <td>3.389655</td>\n",
              "      <td>2.609269</td>\n",
              "      <td>0.0</td>\n",
              "      <td>1.435997e+12</td>\n",
              "      <td>-0.271014</td>\n",
              "      <td>-0.662130</td>\n",
              "      <td>-0.022941</td>\n",
              "      <td>1.435997e+12</td>\n",
              "      <td>0.001209</td>\n",
              "      <td>9.386025</td>\n",
              "      <td>1.909316</td>\n",
              "      <td>0.0</td>\n",
              "      <td>1959.0</td>\n",
              "      <td>4.633718</td>\n",
              "      <td>6.475477</td>\n",
              "      <td>2.649017</td>\n",
              "      <td>1969.0</td>\n",
              "      <td>11.089942</td>\n",
              "      <td>14.787786</td>\n",
              "      <td>16.913838</td>\n",
              "      <td>0.0</td>\n",
              "    </tr>\n",
              "  </tbody>\n",
              "</table>\n",
              "</div>"
            ],
            "text/plain": [
              "       Activity  Subject  ...  range_attr_z_acc  range_Label\n",
              "0  climbingdown        1  ...         11.406575          0.0\n",
              "1  climbingdown        1  ...         18.915391          0.0\n",
              "2  climbingdown        1  ...         21.457434          0.0\n",
              "3  climbingdown        1  ...         20.637421          0.0\n",
              "4  climbingdown        1  ...         16.913838          0.0\n",
              "\n",
              "[5 rows x 30 columns]"
            ]
          },
          "metadata": {
            "tags": []
          },
          "execution_count": 45
        }
      ]
    },
    {
      "cell_type": "code",
      "metadata": {
        "colab": {
          "base_uri": "https://localhost:8080/"
        },
        "id": "LIVM8qd27d_G",
        "outputId": "dba4b9a8-da2b-4532-bebd-c7252271cb6b"
      },
      "source": [
        "total_data.columns"
      ],
      "execution_count": 46,
      "outputs": [
        {
          "output_type": "execute_result",
          "data": {
            "text/plain": [
              "Index(['Activity', 'Subject', 'Sample_Num', 'std_attr_time_gyro',\n",
              "       'std_attr_x_gyro', 'std_attr_y_gyro', 'std_attr_z_gyro',\n",
              "       'std_attr_time_acc', 'std_attr_x_acc', 'std_attr_y_acc',\n",
              "       'std_attr_z_acc', 'std_Label', 'mean_attr_time_gyro',\n",
              "       'mean_attr_x_gyro', 'mean_attr_y_gyro', 'mean_attr_z_gyro',\n",
              "       'mean_attr_time_acc', 'mean_attr_x_acc', 'mean_attr_y_acc',\n",
              "       'mean_attr_z_acc', 'mean_Label', 'range_attr_time_gyro',\n",
              "       'range_attr_x_gyro', 'range_attr_y_gyro', 'range_attr_z_gyro',\n",
              "       'range_attr_time_acc', 'range_attr_x_acc', 'range_attr_y_acc',\n",
              "       'range_attr_z_acc', 'range_Label'],\n",
              "      dtype='object')"
            ]
          },
          "metadata": {
            "tags": []
          },
          "execution_count": 46
        }
      ]
    },
    {
      "cell_type": "code",
      "metadata": {
        "colab": {
          "base_uri": "https://localhost:8080/"
        },
        "id": "kECmvRWL7jQz",
        "outputId": "84ce994b-aa36-4cee-d15a-0b697ac781a2"
      },
      "source": [
        "total_data.Activity.value_counts()"
      ],
      "execution_count": 47,
      "outputs": [
        {
          "output_type": "execute_result",
          "data": {
            "text/plain": [
              "walking         1906\n",
              "standing        1905\n",
              "sitting         1882\n",
              "lying           1853\n",
              "running         1799\n",
              "climbingup      1758\n",
              "climbingdown    1427\n",
              "jumping          279\n",
              "Name: Activity, dtype: int64"
            ]
          },
          "metadata": {
            "tags": []
          },
          "execution_count": 47
        }
      ]
    },
    {
      "cell_type": "code",
      "metadata": {
        "id": "4HnzUIydRRlN"
      },
      "source": [
        "def plot_confusion_matrix(cm,classes,normalize=False,title='Confusion Matrix',cmap='YlOrRd'):\n",
        "    plt.rcParams.update({'font.size': 11})\n",
        "    plt.figure(figsize=(25,10),)\n",
        "    plt.imshow( cm,interpolation='nearest',cmap=cmap)\n",
        "    plt.title(title)\n",
        "    plt.colorbar()\n",
        "    tick_marks = np.arange(len(classes))\n",
        "    plt.xticks(tick_marks, classes, rotation=45)\n",
        "    plt.yticks(tick_marks, classes)\n",
        "    fmt = '.2f' if normalize else 'd'\n",
        "    thresh = cm.max() / 2.\n",
        "    for i, j in itertools.product(range(cm.shape[0]), range(cm.shape[1])):\n",
        "        plt.text(j, i, format(cm[i, j], fmt),horizontalalignment=\"center\",color=\"white\" if cm[i, j] > thresh else \"black\")\n",
        "    plt.ylabel('True label')\n",
        "    plt.xlabel('Predicted label')\n",
        "    plt.tight_layout();"
      ],
      "execution_count": 48,
      "outputs": []
    },
    {
      "cell_type": "code",
      "metadata": {
        "id": "zSotjnm_Rb-b"
      },
      "source": [
        "def implement_model(model,title):\n",
        "    model.fit(X_train,Y_train)\n",
        "    Y_predicted_train=model.predict(X_train)\n",
        "    Y_predicted_validate=model.predict(X_validate)\n",
        "    Y_predicted_final=model.predict(X_final)\n",
        "    print(f'Training F1 score is: {f1_score(Y_train,Y_predicted_train,average=\"macro\"):.3f}')\n",
        "    print(f'Validation F1 score is: {f1_score(Y_validate,Y_predicted_validate,average=\"macro\"):.3f}')\n",
        "    print(f'Testing F1 score is: {f1_score(Y_final,Y_predicted_final,average=\"macro\"):.3f}')\n",
        "    print(f'Training Accuracy is: {accuracy_score(Y_train,Y_predicted_train):.3f}')\n",
        "    print(f'Validation Accuracy is: {accuracy_score(Y_validate,Y_predicted_validate):.3f}')\n",
        "    print(f'Testing Accuracy is: {accuracy_score(Y_final,Y_predicted_final):.3f}')\n",
        "    cm=confusion_matrix(Y_validate,Y_predicted_validate)\n",
        "    array=cm\n",
        "    df_cm = pd.DataFrame(array, index = [i for i in activities],\n",
        "                  columns = [i for i in activities])\n",
        "    plt.figure(figsize = (15,15))\n",
        "    plt.title(\"VALIDATION CONFUSION MATRIX\")\n",
        "    sn.heatmap(df_cm, annot=True,fmt=\"d\")\n",
        "    plt.ylabel('True label')\n",
        "    plt.xlabel('Predicted label')\n",
        "    plt.tight_layout();\n",
        "    cm=confusion_matrix(Y_final,Y_predicted_final)\n",
        "    array=cm\n",
        "    df_cm = pd.DataFrame(array, index = [i for i in activities],\n",
        "                  columns = [i for i in activities])\n",
        "    plt.figure(figsize = (15,15))\n",
        "    plt.title(\"TEST CONFUSION MATRIX\")\n",
        "    sn.heatmap(df_cm, annot=True,fmt=\"d\")\n",
        "    plt.ylabel('True label')\n",
        "    plt.xlabel('Predicted label')\n",
        "    plt.tight_layout();"
      ],
      "execution_count": 49,
      "outputs": []
    },
    {
      "cell_type": "code",
      "metadata": {
        "id": "oCUxgGhqWuxq"
      },
      "source": [
        "columns=[\n",
        "       'std_attr_x_gyro', 'std_attr_y_gyro', 'std_attr_z_gyro',\n",
        "         'std_attr_x_acc', 'std_attr_y_acc', 'std_attr_z_acc', \n",
        "         'mean_attr_x_gyro', 'mean_attr_y_gyro', 'mean_attr_z_gyro', \n",
        "         'mean_attr_x_acc', 'mean_attr_y_acc', 'mean_attr_z_acc',\n",
        "         'range_attr_x_gyro', 'range_attr_y_gyro','range_attr_z_gyro', \n",
        "         'range_attr_x_acc', 'range_attr_y_acc', 'range_attr_z_acc']"
      ],
      "execution_count": 50,
      "outputs": []
    },
    {
      "cell_type": "code",
      "metadata": {
        "id": "H8pYhi9lWzMn"
      },
      "source": [
        "train_temp=total_data.Subject<=4\n",
        "validate_temp=total_data.Subject==4\n",
        "test_temp=total_data.Subject>=5\n",
        "X_final=total_data[columns][test_temp]\n",
        "Y_final=total_data.Activity[test_temp]\n",
        "X_train=total_data[columns][train_temp]\n",
        "X_validate=total_data[columns][validate_temp]\n",
        "Y_train=total_data.Activity[train_temp]\n",
        "Y_validate=total_data.Activity[validate_temp]"
      ],
      "execution_count": 51,
      "outputs": []
    },
    {
      "cell_type": "code",
      "metadata": {
        "id": "Fs1iIAhpW3fs"
      },
      "source": [
        "scaler=StandardScaler()\n",
        "X_train=scaler.fit_transform(X_train)\n",
        "X_validate=scaler.fit_transform(X_validate)\n",
        "X_final = scaler.transform(X_final)\n"
      ],
      "execution_count": 52,
      "outputs": []
    },
    {
      "cell_type": "code",
      "metadata": {
        "colab": {
          "base_uri": "https://localhost:8080/"
        },
        "id": "Twg0179mNFZS",
        "outputId": "2197889b-1204-4827-b6af-b7150f3dac02"
      },
      "source": [
        "from sklearn.ensemble import RandomForestClassifier\n",
        "rf = RandomForestClassifier(random_state = 42)\n",
        "from pprint import pprint\n",
        "# Look at parameters used by our current forest\n",
        "print('Parameters currently in use:\\n')\n",
        "pprint(rf.get_params())"
      ],
      "execution_count": 53,
      "outputs": [
        {
          "output_type": "stream",
          "text": [
            "Parameters currently in use:\n",
            "\n",
            "{'bootstrap': True,\n",
            " 'ccp_alpha': 0.0,\n",
            " 'class_weight': None,\n",
            " 'criterion': 'gini',\n",
            " 'max_depth': None,\n",
            " 'max_features': 'auto',\n",
            " 'max_leaf_nodes': None,\n",
            " 'max_samples': None,\n",
            " 'min_impurity_decrease': 0.0,\n",
            " 'min_impurity_split': None,\n",
            " 'min_samples_leaf': 1,\n",
            " 'min_samples_split': 2,\n",
            " 'min_weight_fraction_leaf': 0.0,\n",
            " 'n_estimators': 100,\n",
            " 'n_jobs': None,\n",
            " 'oob_score': False,\n",
            " 'random_state': 42,\n",
            " 'verbose': 0,\n",
            " 'warm_start': False}\n"
          ],
          "name": "stdout"
        }
      ]
    },
    {
      "cell_type": "code",
      "metadata": {
        "colab": {
          "base_uri": "https://localhost:8080/",
          "height": 1000
        },
        "id": "8bLiz9buoXJy",
        "outputId": "d2f7e578-8947-44ef-e128-90a5e8fea0ba"
      },
      "source": [
        "final_model =  RandomForestClassifier(n_estimators = 100, bootstrap='True',max_depth=1000,max_features=6,min_samples_leaf=1,min_samples_split=2, random_state = 42,max_samples=0.2,max_leaf_nodes=28)\n",
        "implement_model(final_model,'final')"
      ],
      "execution_count": 54,
      "outputs": [
        {
          "output_type": "stream",
          "text": [
            "Training F1 score is: 0.934\n",
            "Validation F1 score is: 0.624\n",
            "Testing F1 score is: 0.644\n",
            "Training Accuracy is: 0.935\n",
            "Validation Accuracy is: 0.683\n",
            "Testing Accuracy is: 0.695\n"
          ],
          "name": "stdout"
        },
        {
          "output_type": "display_data",
          "data": {
            "image/png": "[encoded data removed]",
            "text/plain": [
              "<Figure size 1080x1080 with 2 Axes>"
            ]
          },
          "metadata": {
            "tags": [],
            "needs_background": "light"
          }
        },
        {
          "output_type": "display_data",
          "data": {
            "image/png": "[encoded data removed]",
            "text/plain": [
              "<Figure size 1080x1080 with 2 Axes>"
            ]
          },
          "metadata": {
            "tags": [],
            "needs_background": "light"
          }
        }
      ]
    }
  ]
}